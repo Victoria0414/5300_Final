{
 "cells": [
  {
   "cell_type": "markdown",
   "metadata": {},
   "source": [
    "<h3>Part(e) Three-Body System of Gravitational Attraction</h3>\n",
    "\n",
    "I add a third body into the gravitational system. The running time of this simulation is very long."
   ]
  },
  {
   "cell_type": "code",
   "execution_count": 22,
   "metadata": {},
   "outputs": [],
   "source": [
    "# import the modulus needed\n",
    "import numpy as np\n",
    "import matplotlib.pyplot as plt\n",
    "from numpy import sin, cos\n",
    "\n",
    "from scipy.integrate import solve_ivp"
   ]
  },
  {
   "cell_type": "code",
   "execution_count": 23,
   "metadata": {},
   "outputs": [],
   "source": [
    "class TripleBody_Grav():\n",
    "    \"\"\"\n",
    "    The motions of a binary system with gravitational attraction between two bodies in 2 dimension Cartesian \n",
    "    coordinate. Several algorithms for integration of ordinary differential equations are now available. \n",
    "    \n",
    "    \n",
    "    Parameters\n",
    "    ----------\n",
    "    m1: float\n",
    "        mass of the first object\n",
    "    m2: float\n",
    "        mass of the second object\n",
    "    G: float\n",
    "        gravitational constant\n",
    "    AU: float\n",
    "        astronomical unit\n",
    "    daysec:\n",
    "        seconds of a day\n",
    "        \n",
    "    Method\n",
    "    ------\n",
    "    df_dt: return the right side of the differential equations\n",
    "        \n",
    "    \"\"\"\n",
    "    \n",
    "    def __init__(self, m1=2.0e30, m2=4.0e30, m3=2.0e30, G=6.67e-11, AU=1.5e11, daysec=24.*60*60):\n",
    "        self.m1 = m1\n",
    "        self.m2 = m2\n",
    "        self.m3 = m3\n",
    "        self.G = G\n",
    "        self.AU = AU\n",
    "        self.daysec = daysec\n",
    "        self.gravconst = G*m1*m2\n",
    "    \n",
    "    def df_dt(self, t_pts, f):\n",
    "        '''\n",
    "        input function f and return the right side of the differential equation\n",
    "        \n",
    "        return\n",
    "        ------\n",
    "        [vx1, vy1, ax1, ay1, vx2, vy2, ax2, ay2, vx3, vy3, ax3, ay3]\n",
    "        '''\n",
    "        x1 = f[0]\n",
    "        y1 = f[1]\n",
    "        vx1 = f[2]\n",
    "        vy1 = f[3]\n",
    "        x2 = f[4]\n",
    "        y2 = f[5]\n",
    "        vx2 = f[6]\n",
    "        vy2 = f[7]\n",
    "        x3 = f[8]\n",
    "        y3 = f[9]\n",
    "        vx3 = f[10]\n",
    "        vy3 = f[11]\n",
    "        \n",
    "        \n",
    "        r1 = np.array([x1, y1])\n",
    "        r2 = np.array([x2, y2])\n",
    "        r3 = np.array([x3, y3])\n",
    "        v1 = np.array([vx1, vy1])\n",
    "        v2 = np.array([vx2, vy2])\n",
    "        v3 = np.array([vx3, vy3])\n",
    "        \n",
    "        dr_12 = np.sqrt((x1-x2)**2+(y1-y2)**2)\n",
    "        dr_13 = np.sqrt((x1-x3)**2+(y1-y3)**2)\n",
    "        dr_23 = np.sqrt((x3-x2)**2+(y3-y2)**2)\n",
    "        \n",
    "        dr1_dt = v1\n",
    "        dr2_dt = v2\n",
    "        dr3_dt = v3\n",
    "        \n",
    "        dv1_dt = self.G*self.m2*(r2-r1)/dr_12**3 + self.G*self.m3*(r3-r1)/dr_13**3\n",
    "        dv2_dt = self.G*self.m1*(r1-r2)/dr_12**3 + self.G*self.m3*(r3-r2)/dr_23**3\n",
    "        dv3_dt = self.G*self.m2*(r2-r3)/dr_23**3 + self.G*self.m1*(r1-r3)/dr_13**3\n",
    "        \n",
    "        return [dr1_dt[0], dr1_dt[1], dv1_dt[0], dv1_dt[1], \n",
    "                dr2_dt[0], dr2_dt[1], dv2_dt[0], dv2_dt[1],\n",
    "                dr3_dt[0], dr3_dt[1], dv3_dt[0], dv3_dt[1]] \n",
    "        \n",
    "    \n",
    "    def solve_ode(self, t_pts, f0, abserr=1.0e-4, relerr=1.0e-4):\n",
    "        '''\n",
    "        numerically solve the differential equation\n",
    "        '''\n",
    "        solution = solve_ivp(self.df_dt, (t_pts[0], t_pts[-1]), \n",
    "                             f0, t_eval=t_pts, \n",
    "                             atol=abserr, rtol=relerr)\n",
    "        trajectory = solution.y\n",
    "        return trajectory    # contain values of 8 variables\n",
    "    \n",
    "    def energy(self, t_pts, f):\n",
    "        \"\"\"\n",
    "        Evaluate the total energy (U+T) as a function of time\n",
    "        \"\"\"\n",
    "        return 1/2.*self.m1*(f[2]**2 + f[3]**2)+1/2.*self.m2*(f[6]**2 + f[7]**2)\\\n",
    "               +self.G*self.m1*self.m2/np.sqrt((f[0]-f[4])**2+(f[1]-f[5])**2)"
   ]
  },
  {
   "cell_type": "code",
   "execution_count": 24,
   "metadata": {},
   "outputs": [],
   "source": [
    "# for easier demonstration, I use one for all parameters\n",
    "m1= 0.\n",
    "m2= 1.\n",
    "m3 = 0.\n",
    "G=10.\n",
    "AU=1.\n",
    "daysec=1."
   ]
  },
  {
   "cell_type": "code",
   "execution_count": null,
   "metadata": {},
   "outputs": [],
   "source": [
    "# Set up initial conditions\n",
    "x1_0 = 1.\n",
    "y1_0 = 1.\n",
    "\n",
    "vx1_0 = -1.\n",
    "vy1_0 = 1.\n",
    "\n",
    "x2_0 = -(m1/m2)*x1_0\n",
    "y2_0 = -(m1/m2)*y1_0\n",
    "\n",
    "vx2_0 = -(m1/m2)*vx1_0\n",
    "vy2_0 = -(m1/m2)*vy1_0\n",
    "\n",
    "x3_0 = -(m3/m2)*x1_0\n",
    "y3_0 = -(m3/m2)*y1_0\n",
    "\n",
    "vx3_0 = -(m3/m2)*vx1_0\n",
    "vy3_0 = -(m3/m2)*vy1_0"
   ]
  },
  {
   "cell_type": "code",
   "execution_count": null,
   "metadata": {},
   "outputs": [
    {
     "name": "stderr",
     "output_type": "stream",
     "text": [
      "/Users/victoria/anaconda3/lib/python3.7/site-packages/ipykernel_launcher.py:73: RuntimeWarning: invalid value encountered in true_divide\n",
      "/Users/victoria/anaconda3/lib/python3.7/site-packages/ipykernel_launcher.py:74: RuntimeWarning: invalid value encountered in true_divide\n"
     ]
    }
   ],
   "source": [
    "t_pts = np.arange(0, 10, 0.01)\n",
    "ob3 = TripleBody_Grav(m1=m1, m2=m2, m3=m3, G=G, AU=AU, daysec=daysec)\n",
    "f0 = np.array([x1_0, y1_0, vx1_0, vy1_0, x2_0, y2_0, vx2_0, vy2_0, x3_0, y3_0, vx3_0, vy3_0])\n",
    "solution = ob3.solve_ode(t_pts, f0)"
   ]
  },
  {
   "cell_type": "code",
   "execution_count": null,
   "metadata": {},
   "outputs": [],
   "source": [
    "x1 = solution[0]\n",
    "y1 = solution[1]\n",
    "vx1 = solution[2]\n",
    "vy1 = solution[3]\n",
    "x2 = solution[4]\n",
    "y2 = solution[5]\n",
    "vx2 = solution[6]\n",
    "vy2 = solution[7]\n",
    "x3 = solution[8]\n",
    "y3 = solution[9]\n",
    "vx3 = solution[10]\n",
    "vy3 = solution[11]"
   ]
  },
  {
   "cell_type": "code",
   "execution_count": null,
   "metadata": {},
   "outputs": [],
   "source": [
    "plt.figure(figsize=(8,7))\n",
    "fontsize=15\n",
    "plt.plot(x1, y1, linewidth=2.0, label='r1: m1=1, x1_0=y1_0=1, vx1_0=-1, vy1=1')\n",
    "plt.plot(x2, y2, linewidth=2.0, label='r2: m2=1, x2_0=y2_0=-1, vx2_0=1, vy2=-1')\n",
    "plt.plot(x3, y3, linewidth=2.0, label='r3: m3=1, x3_0=y3_0=-1, vx3_0=1, vy3=-1')\n",
    "\n",
    "plt.xlabel(r'x', fontsize=fontsize)\n",
    "plt.ylabel(r'y', fontsize=fontsize)\n",
    "plt.legend(fontsize=12)\n",
    "plt.title(r'Three Body System under Gravitational Attraction', fontsize=fontsize)"
   ]
  }
 ],
 "metadata": {
  "kernelspec": {
   "display_name": "Python 3",
   "language": "python",
   "name": "python3"
  },
  "language_info": {
   "codemirror_mode": {
    "name": "ipython",
    "version": 3
   },
   "file_extension": ".py",
   "mimetype": "text/x-python",
   "name": "python",
   "nbconvert_exporter": "python",
   "pygments_lexer": "ipython3",
   "version": "3.7.3"
  }
 },
 "nbformat": 4,
 "nbformat_minor": 2
}
