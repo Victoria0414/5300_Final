{
 "cells": [
  {
   "cell_type": "markdown",
   "metadata": {},
   "source": [
    "<h2>Simulation of Gravitational Binary System</h2>\n",
    "\n",
    "This notebook is created to simulate the motion of a binary system in 2D dimension (assuming two objects are orbiting around each other in the same plane. "
   ]
  },
  {
   "cell_type": "code",
   "execution_count": 246,
   "metadata": {},
   "outputs": [],
   "source": [
    "# import the modulus required\n",
    "import numpy as np\n",
    "import scipy as sci\n",
    "import matplotlib.pyplot as plt\n",
    "from scipy.integrate import solve_ivp"
   ]
  },
  {
   "cell_type": "markdown",
   "metadata": {},
   "source": [
    "<h3>Part (a): Python class of two body system</h3>\n",
    "\n",
    "I create a python class called TwoBody_Grav to solve the binary problem for gravitational attraction between two bodies in Cartesian coordinate. "
   ]
  },
  {
   "cell_type": "code",
   "execution_count": 247,
   "metadata": {},
   "outputs": [],
   "source": [
    "class TwoBody_Grav():\n",
    "    \"\"\"\n",
    "    The motions of a binary system with gravitational attraction between two bodies in 2 dimension Cartesian \n",
    "    coordinate. Several algorithms for integration of ordinary differential equations are now available. \n",
    "    \n",
    "    \n",
    "    Parameters\n",
    "    ----------\n",
    "    m1: float\n",
    "        mass of the first object\n",
    "    m2: float\n",
    "        mass of the second object\n",
    "    G: float\n",
    "        gravitational constant\n",
    "    AU: float\n",
    "        astronomical unit\n",
    "    daysec:\n",
    "        seconds of a day\n",
    "        \n",
    "    Method\n",
    "    ------\n",
    "    df_dt: return the right side of the differential equations\n",
    "        \n",
    "    \"\"\"\n",
    "    \n",
    "    def __init__(self, m1=2.0e30, m2=4.0e30, G=6.67e-11, AU=1.5e11, daysec=24.*60*60):\n",
    "        self.m1 = m1\n",
    "        self.m2 = m2\n",
    "        self.G = G\n",
    "        self.AU = AU\n",
    "        self.daysec = daysec\n",
    "        self.gravconst = G*m1*m2\n",
    "    \n",
    "    def df_dt(self, t_pts, f):\n",
    "        '''\n",
    "        input function f and return the right side of the differential equation\n",
    "        '''\n",
    "        x1 = f[0]\n",
    "        y1 = f[1]\n",
    "        vx1 = f[2]\n",
    "        vy1 = f[3]\n",
    "        x2 = f[4]\n",
    "        y2 = f[5]\n",
    "        vx2 = f[6]\n",
    "        vy2 = f[7]\n",
    "        \n",
    "        r1 = np.array([x1, y1])\n",
    "        r2 = np.array([x2, y2])\n",
    "        v1 = np.array([vx1, vy1])\n",
    "        v2 = np.array([vx2, vy2])\n",
    "    \n",
    "        dr = np.sqrt((x1-x2)**2+(y1-y2)**2)\n",
    "        \n",
    "        dr1_dt = v1\n",
    "        dr2_dt = v2\n",
    "        \n",
    "        dv1_dt = self.G*self.m2*(r2-r1)/dr**3\n",
    "        dv2_dt = self.G*self.m1*(r1-r2)/dr**3\n",
    "        \n",
    "        return [dr1_dt[0], dr1_dt[1], dv1_dt[0], dv1_dt[1], \n",
    "                dr2_dt[0], dr2_dt[1], dv2_dt[0], dv2_dt[1]]\n",
    "        \n",
    "    \n",
    "    def solve_ode(self, t_pts, f0, abserr=1.0e-9, relerr=1.0e-9):\n",
    "        '''\n",
    "        numerically solve the differential equation\n",
    "        '''\n",
    "        solution = solve_ivp(self.df_dt, (t_pts[0], t_pts[-1]), \n",
    "                             f0, t_eval=t_pts, \n",
    "                             atol=abserr, rtol=relerr)\n",
    "        trajectory = solution.y\n",
    "        return trajectory"
   ]
  },
  {
   "cell_type": "markdown",
   "metadata": {},
   "source": [
    "<h3>Test Trajectories with different initial conditions</h3>\n",
    "\n",
    "I use the initial conditions that the center of mass is always in the origin. "
   ]
  },
  {
   "cell_type": "code",
   "execution_count": 248,
   "metadata": {},
   "outputs": [],
   "source": [
    "# for easier demonstration, I use one for all parameters\n",
    "m1= 1.\n",
    "m2= 1.\n",
    "G=1.\n",
    "AU=1.\n",
    "daysec=1. "
   ]
  },
  {
   "cell_type": "code",
   "execution_count": 249,
   "metadata": {},
   "outputs": [],
   "source": [
    "# Set up initial conditions\n",
    "x1_0 = 1.\n",
    "y1_0 = 1.\n",
    "\n",
    "vx1_0 = -1.\n",
    "vy1_0 = 1.\n",
    "\n",
    "x2_0 = -(m1/m2)*x1_0\n",
    "y2_0 = -(m1/m2)*y1_0\n",
    "\n",
    "vx2_0 = -(m1/m2)*vx1_0\n",
    "vy2_0 = -(m1/m2)*vy1_0"
   ]
  },
  {
   "cell_type": "code",
   "execution_count": 250,
   "metadata": {},
   "outputs": [],
   "source": [
    "# set up time\n",
    "t0 = 0.0\n",
    "t_final = daysec*100\n",
    "dt = 0.01*daysec\n",
    "t_pts = np.arange(t0, t_final, dt)"
   ]
  },
  {
   "cell_type": "code",
   "execution_count": 251,
   "metadata": {},
   "outputs": [],
   "source": [
    "ob1 = TwoBody_Grav(m1=m1, m2=m2, G=G, AU=AU, daysec=daysec)"
   ]
  },
  {
   "cell_type": "code",
   "execution_count": 252,
   "metadata": {},
   "outputs": [],
   "source": [
    "f0 = np.array([x1_0, y1_0, vx1_0, vx2_0, x2_0, y2_0, vx2_0, vy2_0])\n",
    "solution = ob1.solve_ode(t_pts, f0)"
   ]
  },
  {
   "cell_type": "code",
   "execution_count": 253,
   "metadata": {},
   "outputs": [],
   "source": [
    "x1 = solution[0]\n",
    "y1 = solution[1]\n",
    "vx1 = solution[2]\n",
    "vy1 = solution[3]\n",
    "x2 = solution[4]\n",
    "y2 = solution[5]\n",
    "vx2 = solution[6]\n",
    "vy2 = solution[7]"
   ]
  },
  {
   "cell_type": "code",
   "execution_count": 254,
   "metadata": {
    "scrolled": false
   },
   "outputs": [
    {
     "data": {
      "text/plain": [
       "Text(0.5, 1.0, 'Two Body System under Gravitational Attraction')"
      ]
     },
     "execution_count": 254,
     "metadata": {},
     "output_type": "execute_result"
    },
    {
     "data": {
      "image/png": "[encoded data removed]",
      "text/plain": [
       "<Figure size 576x504 with 1 Axes>"
      ]
     },
     "metadata": {
      "needs_background": "light"
     },
     "output_type": "display_data"
    }
   ],
   "source": [
    "plt.figure(figsize=(8,7))\n",
    "fontsize=15\n",
    "plt.plot(x1, y1, linewidth=2.0, label='r1: m1=1, x1_0=y1_0=1, vx1_0=-1, vy1=1')\n",
    "plt.plot(x2, y2, linewidth=2.0, label='r2: m2=1, x2_0=y2_0=-1, vx2_0=1, vy2=-1')\n",
    "plt.xlabel(r'x', fontsize=fontsize)\n",
    "plt.ylabel(r'y', fontsize=fontsize)\n",
    "plt.legend(fontsize=12)\n",
    "plt.title(r'Two Body System under Gravitational Attraction', fontsize=fontsize)"
   ]
  },
  {
   "cell_type": "markdown",
   "metadata": {},
   "source": [
    "<h4>Comments:</h4>\n",
    "\n",
    "As we see above, the initial position of m1 and m2 are opposite to each other (center of mass at origin). Since m1 and m2 have equal mass, they rotate aroud the center of mass with equal speed. \n",
    "\n",
    "\n",
    "<h3>Part (b): When m2 >> m1 </h3>\n",
    "\n",
    "I set m1=0 (m2=1 still) to show that the problem reduces to the orbits considered in class."
   ]
  },
  {
   "cell_type": "code",
   "execution_count": 268,
   "metadata": {},
   "outputs": [],
   "source": [
    "# for easier demonstration, I use one for all parameters\n",
    "m1= 0.\n",
    "m2= 1.\n",
    "G=1.\n",
    "AU=1.\n",
    "daysec=1. "
   ]
  },
  {
   "cell_type": "code",
   "execution_count": 269,
   "metadata": {},
   "outputs": [],
   "source": [
    "# Set up initial conditions\n",
    "x1_0 = 1.\n",
    "y1_0 = 1.\n",
    "\n",
    "vx1_0 = -1\n",
    "vy1_0 = 1.\n",
    "\n",
    "x2_0 = -(m1/m2)*x1_0\n",
    "y2_0 = -(m1/m2)*y1_0\n",
    "\n",
    "vx2_0 = -(m1/m2)*vx1_0\n",
    "vy2_0 = -(m1/m2)*vy1_0"
   ]
  },
  {
   "cell_type": "code",
   "execution_count": 270,
   "metadata": {},
   "outputs": [],
   "source": [
    "# set up time\n",
    "t0 = 0.0\n",
    "t_final = daysec*100\n",
    "dt = 0.01*daysec\n",
    "t_pts = np.arange(t0, t_final, dt)\n",
    "ob1 = TwoBody_Grav(m1=m1, m2=m2, G=G, AU=AU, daysec=daysec)"
   ]
  },
  {
   "cell_type": "code",
   "execution_count": 271,
   "metadata": {},
   "outputs": [],
   "source": [
    "f0 = np.array([x1_0, y1_0, vx1_0, vx2_0, x2_0, y2_0, vx2_0, vy2_0])\n",
    "solution = ob1.solve_ode(t_pts, f0)\n",
    "x1 = solution[0]\n",
    "y1 = solution[1]\n",
    "vx1 = solution[2]\n",
    "vy1 = solution[3]\n",
    "x2 = solution[4]\n",
    "y2 = solution[5]\n",
    "vx2 = solution[6]\n",
    "vy2 = solution[7]"
   ]
  },
  {
   "cell_type": "code",
   "execution_count": 275,
   "metadata": {},
   "outputs": [
    {
     "data": {
      "text/plain": [
       "Text(0.5, 1.0, 'Two Body System under Gravitational Attraction')"
      ]
     },
     "execution_count": 275,
     "metadata": {},
     "output_type": "execute_result"
    },
    {
     "data": {
      "image/png": "[encoded data removed]",
      "text/plain": [
       "<Figure size 576x504 with 1 Axes>"
      ]
     },
     "metadata": {
      "needs_background": "light"
     },
     "output_type": "display_data"
    }
   ],
   "source": [
    "plt.figure(figsize=(8,7))\n",
    "fontsize=15\n",
    "plt.plot(x1, y1, linewidth=2.0, label='r1: m1=0, x1_0=y1_0=1, vx1_0=-1, vy1=1')\n",
    "plt.plot(x2, y2, linewidth=2.0, label='r2: m2=1, x2_0=y2_0=-1, vx2_0=1, vy2=-1')\n",
    "plt.xlabel(r'x', fontsize=fontsize)\n",
    "plt.ylabel(r'y', fontsize=fontsize)\n",
    "plt.legend(fontsize=12)\n",
    "plt.title(r'Two Body System under Gravitational Attraction', fontsize=fontsize)"
   ]
  },
  {
   "cell_type": "markdown",
   "metadata": {},
   "source": [
    "<h4>Comments:</h4>\n",
    "\n",
    "The orbit of m2 now become a ellipse , which is the oribt described in the class (m1 at the origin, and m2 centers around it in the orbit of ellipse). "
   ]
  }
 ],
 "metadata": {
  "kernelspec": {
   "display_name": "Python 3",
   "language": "python",
   "name": "python3"
  },
  "language_info": {
   "codemirror_mode": {
    "name": "ipython",
    "version": 3
   },
   "file_extension": ".py",
   "mimetype": "text/x-python",
   "name": "python",
   "nbconvert_exporter": "python",
   "pygments_lexer": "ipython3",
   "version": "3.7.3"
  }
 },
 "nbformat": 4,
 "nbformat_minor": 2
}
