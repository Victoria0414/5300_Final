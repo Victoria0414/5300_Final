{
 "cells": [
  {
   "cell_type": "code",
   "execution_count": 64,
   "metadata": {},
   "outputs": [],
   "source": [
    "import numpy as np\n",
    "import matplotlib.pyplot as plt\n",
    "\n",
    "from scipy.integrate import solve_ivp"
   ]
  },
  {
   "cell_type": "code",
   "execution_count": 95,
   "metadata": {},
   "outputs": [],
   "source": [
    "class double_Pendulum():\n",
    "    \"\"\"\n",
    "    Pendulum class implements the parameters and Lagrange's equations for \n",
    "    double pendulums (no driving or damping).\n",
    "     \n",
    "    Parameters\n",
    "    ----------\n",
    "    L1 : float\n",
    "        length of the first pendulum\n",
    "    L2 : float\n",
    "        length of the second pendulum\n",
    "    g : float\n",
    "        gravitational acceleration at the earth's surface\n",
    "    mass1 : float\n",
    "        mass of the first pendulum\n",
    "    mass2 : float\n",
    "        mass of the second pendulum\n",
    "\n",
    "    Methods\n",
    "    -------\n",
    "    dy_dt(t, y)\n",
    "        Returns the right side of the differential equation in vector y, \n",
    "        given time t and the corresponding value of y.\n",
    "    \"\"\"\n",
    "\n",
    "    def __init__(self, L1=1., m1=1., L2=1., m2=1., g=1.\n",
    "                ):\n",
    "        self.L1 = L1\n",
    "        self.L2 = L2\n",
    "        self.g = g\n",
    "        self.m1 = m1\n",
    "        self.m2 = m2\n",
    "    \n",
    "    def dy_dt(self, t, y):\n",
    "        \n",
    "        m1 = self.m1\n",
    "        m2 = self.m2\n",
    "        L1 = self.L1\n",
    "        L2 = self.L2\n",
    "        g = self.g\n",
    "        \n",
    "        y1_double_dot = (-g * (2*m1+m2)*np.sin(y[0])-m2*g*np.sin(y[2]-y[0])-2*np.sin(y[0]-y[2])*m2*(y[3]**2*L2+y[1]**2*L1*np.cos(y[0]-y[2])))/(L1*(2*m1+m2-m2*np.cos(2*y[0]-2*y[2])))\n",
    "        y2_double_dot = (2*np.sin(y[0]-[2])*(y[1]**2*L1*(m1+m2)+g*(m1+m2)*np.cos(y[0])+y[3]**2*L2*m2*np.cos(y[0]-y[2])))/(L2*(2*m1+m2-m2*np.cos(2*y[0]-2*y[2])))\n",
    "        \n",
    "        \n",
    "        return [y[1], y1_double_dot, y[3], y2_double_dot]\n",
    "    \n",
    "    \n",
    "    def solve_ode(self, t_pts, phi_1_0=np.pi/2, phi_1_dot_0=0., phi_2_0=np.pi, phi_2_dot_0=0.,\n",
    "                  abserr=1.0e-9, relerr=1.0e-9):\n",
    "        \"\"\"\n",
    "        Solve the ODE given initial conditions.\n",
    "        Specify smaller abserr and relerr to get more precision.\n",
    "        \"\"\"\n",
    "        y = [phi_1_0, phi_1_dot_0, phi_2_0, phi_2_dot_0] \n",
    "        solution = solve_ivp(self.dy_dt, (t_pts[0], t_pts[-1]), \n",
    "                             y, t_eval=t_pts, \n",
    "                             atol=abserr, rtol=relerr)\n",
    "        \n",
    "        phi_1, phi_1_dot, phi_2, phi_2_dot = solution.y\n",
    "        return phi_1, phi_1_dot, phi_2, phi_2_dot"
   ]
  },
  {
   "cell_type": "code",
   "execution_count": 96,
   "metadata": {},
   "outputs": [],
   "source": [
    "p1 = double_Pendulum()\n",
    "t_pts = np.arange(0, 50, 0.01)\n",
    "phi_1, phi_1_dot, phi_2, phi_2_dot = p1.solve_ode(t_pts)"
   ]
  },
  {
   "cell_type": "code",
   "execution_count": 97,
   "metadata": {
    "scrolled": true
   },
   "outputs": [
    {
     "data": {
      "text/plain": [
       "(463,)"
      ]
     },
     "execution_count": 97,
     "metadata": {},
     "output_type": "execute_result"
    }
   ],
   "source": [
    "phi_1.shape"
   ]
  },
  {
   "cell_type": "code",
   "execution_count": 98,
   "metadata": {},
   "outputs": [
    {
     "data": {
      "text/plain": [
       "(5000,)"
      ]
     },
     "execution_count": 98,
     "metadata": {},
     "output_type": "execute_result"
    }
   ],
   "source": [
    "t_pts.shape"
   ]
  },
  {
   "cell_type": "code",
   "execution_count": null,
   "metadata": {},
   "outputs": [],
   "source": []
  }
 ],
 "metadata": {
  "kernelspec": {
   "display_name": "Python 3",
   "language": "python",
   "name": "python3"
  },
  "language_info": {
   "codemirror_mode": {
    "name": "ipython",
    "version": 3
   },
   "file_extension": ".py",
   "mimetype": "text/x-python",
   "name": "python",
   "nbconvert_exporter": "python",
   "pygments_lexer": "ipython3",
   "version": "3.7.3"
  }
 },
 "nbformat": 4,
 "nbformat_minor": 2
}
